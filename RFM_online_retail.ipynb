{
 "cells": [
  {
   "cell_type": "markdown",
   "metadata": {},
   "source": [
    "ID: 20201474201"
   ]
  },
  {
   "cell_type": "markdown",
   "metadata": {},
   "source": [
    "Name: Amr Ibrahim Mohammed Sheta<br>\n",
    "عمرو إبراهيم محمد شتا\n"
   ]
  },
  {
   "cell_type": "code",
   "execution_count": 1,
   "metadata": {
    "ExecuteTime": {
     "end_time": "2022-01-20T21:52:06.954335Z",
     "start_time": "2022-01-20T21:52:05.886965Z"
    }
   },
   "outputs": [],
   "source": [
    "import pandas as pd\n",
    "import matplotlib.pyplot as plt"
   ]
  },
  {
   "cell_type": "code",
   "execution_count": 2,
   "metadata": {
    "ExecuteTime": {
     "end_time": "2022-01-20T21:52:08.168069Z",
     "start_time": "2022-01-20T21:52:06.956336Z"
    }
   },
   "outputs": [],
   "source": [
    "data_copy = pd.read_csv(\n",
    "    r\"C:\\Users\\amrsh\\Downloads\\RetailDataIII\\RetailDataIII.csv\", low_memory=False)"
   ]
  },
  {
   "cell_type": "code",
   "execution_count": 3,
   "metadata": {
    "ExecuteTime": {
     "end_time": "2022-01-20T21:52:08.200076Z",
     "start_time": "2022-01-20T21:52:08.169069Z"
    }
   },
   "outputs": [
    {
     "data": {
      "text/html": [
       "<div>\n",
       "<style scoped>\n",
       "    .dataframe tbody tr th:only-of-type {\n",
       "        vertical-align: middle;\n",
       "    }\n",
       "\n",
       "    .dataframe tbody tr th {\n",
       "        vertical-align: top;\n",
       "    }\n",
       "\n",
       "    .dataframe thead th {\n",
       "        text-align: right;\n",
       "    }\n",
       "</style>\n",
       "<table border=\"1\" class=\"dataframe\">\n",
       "  <thead>\n",
       "    <tr style=\"text-align: right;\">\n",
       "      <th></th>\n",
       "      <th>Bill</th>\n",
       "      <th>MerchandiseID</th>\n",
       "      <th>Product</th>\n",
       "      <th>Quota</th>\n",
       "      <th>BillDate</th>\n",
       "      <th>Amount</th>\n",
       "      <th>CustomerID</th>\n",
       "      <th>Country</th>\n",
       "    </tr>\n",
       "  </thead>\n",
       "  <tbody>\n",
       "    <tr>\n",
       "      <th>0</th>\n",
       "      <td>532657</td>\n",
       "      <td>21314</td>\n",
       "      <td>Small glass heart trinket pot</td>\n",
       "      <td>12</td>\n",
       "      <td>2018-11-14</td>\n",
       "      <td>4.10</td>\n",
       "      <td>14562.0</td>\n",
       "      <td>United Kingdom</td>\n",
       "    </tr>\n",
       "    <tr>\n",
       "      <th>1</th>\n",
       "      <td>563214</td>\n",
       "      <td>22383</td>\n",
       "      <td>Lunch bag suki design</td>\n",
       "      <td>2</td>\n",
       "      <td>2019-8-14</td>\n",
       "      <td>3.65</td>\n",
       "      <td>16370.0</td>\n",
       "      <td>United Kingdom</td>\n",
       "    </tr>\n",
       "    <tr>\n",
       "      <th>2</th>\n",
       "      <td>507597</td>\n",
       "      <td>22561</td>\n",
       "      <td>Wooden school colouring set</td>\n",
       "      <td>12</td>\n",
       "      <td>2018-5-10</td>\n",
       "      <td>3.65</td>\n",
       "      <td>17700.0</td>\n",
       "      <td>United Kingdom</td>\n",
       "    </tr>\n",
       "    <tr>\n",
       "      <th>3</th>\n",
       "      <td>491634</td>\n",
       "      <td>21588</td>\n",
       "      <td>Retro spot giant  tube matches</td>\n",
       "      <td>1</td>\n",
       "      <td>2017-12-11</td>\n",
       "      <td>4.55</td>\n",
       "      <td>17841.0</td>\n",
       "      <td>United Kingdom</td>\n",
       "    </tr>\n",
       "    <tr>\n",
       "      <th>4</th>\n",
       "      <td>496007</td>\n",
       "      <td>85232B</td>\n",
       "      <td>Set/3 russian doll stacking tins</td>\n",
       "      <td>3</td>\n",
       "      <td>2018-1-28</td>\n",
       "      <td>6.95</td>\n",
       "      <td>15203.0</td>\n",
       "      <td>United Kingdom</td>\n",
       "    </tr>\n",
       "  </tbody>\n",
       "</table>\n",
       "</div>"
      ],
      "text/plain": [
       "     Bill MerchandiseID                           Product  Quota    BillDate  \\\n",
       "0  532657         21314     Small glass heart trinket pot     12  2018-11-14   \n",
       "1  563214         22383            Lunch bag suki design       2   2019-8-14   \n",
       "2  507597         22561       Wooden school colouring set     12   2018-5-10   \n",
       "3  491634         21588    Retro spot giant  tube matches      1  2017-12-11   \n",
       "4  496007        85232B  Set/3 russian doll stacking tins      3   2018-1-28   \n",
       "\n",
       "   Amount  CustomerID         Country  \n",
       "0    4.10     14562.0  United Kingdom  \n",
       "1    3.65     16370.0  United Kingdom  \n",
       "2    3.65     17700.0  United Kingdom  \n",
       "3    4.55     17841.0  United Kingdom  \n",
       "4    6.95     15203.0  United Kingdom  "
      ]
     },
     "execution_count": 3,
     "metadata": {},
     "output_type": "execute_result"
    }
   ],
   "source": [
    "data = data_copy\n",
    "data.head(5)"
   ]
  },
  {
   "cell_type": "code",
   "execution_count": 4,
   "metadata": {
    "ExecuteTime": {
     "end_time": "2022-01-20T21:52:08.423798Z",
     "start_time": "2022-01-20T21:52:08.202076Z"
    }
   },
   "outputs": [
    {
     "name": "stdout",
     "output_type": "stream",
     "text": [
      "<class 'pandas.core.frame.DataFrame'>\n",
      "RangeIndex: 1067371 entries, 0 to 1067370\n",
      "Data columns (total 8 columns):\n",
      " #   Column         Non-Null Count    Dtype  \n",
      "---  ------         --------------    -----  \n",
      " 0   Bill           1067371 non-null  object \n",
      " 1   MerchandiseID  1067371 non-null  object \n",
      " 2   Product        1062989 non-null  object \n",
      " 3   Quota          1067371 non-null  int64  \n",
      " 4   BillDate       1067371 non-null  object \n",
      " 5   Amount         1067371 non-null  float64\n",
      " 6   CustomerID     824364 non-null   float64\n",
      " 7   Country        1067371 non-null  object \n",
      "dtypes: float64(2), int64(1), object(5)\n",
      "memory usage: 65.1+ MB\n"
     ]
    }
   ],
   "source": [
    "data.info()"
   ]
  },
  {
   "cell_type": "code",
   "execution_count": 5,
   "metadata": {
    "ExecuteTime": {
     "end_time": "2022-01-20T21:52:08.550880Z",
     "start_time": "2022-01-20T21:52:08.424798Z"
    }
   },
   "outputs": [
    {
     "data": {
      "text/html": [
       "<div>\n",
       "<style scoped>\n",
       "    .dataframe tbody tr th:only-of-type {\n",
       "        vertical-align: middle;\n",
       "    }\n",
       "\n",
       "    .dataframe tbody tr th {\n",
       "        vertical-align: top;\n",
       "    }\n",
       "\n",
       "    .dataframe thead th {\n",
       "        text-align: right;\n",
       "    }\n",
       "</style>\n",
       "<table border=\"1\" class=\"dataframe\">\n",
       "  <thead>\n",
       "    <tr style=\"text-align: right;\">\n",
       "      <th></th>\n",
       "      <th>Quota</th>\n",
       "      <th>Amount</th>\n",
       "      <th>CustomerID</th>\n",
       "    </tr>\n",
       "  </thead>\n",
       "  <tbody>\n",
       "    <tr>\n",
       "      <th>count</th>\n",
       "      <td>1.067371e+06</td>\n",
       "      <td>1.067371e+06</td>\n",
       "      <td>824364.000000</td>\n",
       "    </tr>\n",
       "    <tr>\n",
       "      <th>mean</th>\n",
       "      <td>9.938898e+00</td>\n",
       "      <td>6.649388e+00</td>\n",
       "      <td>15324.638504</td>\n",
       "    </tr>\n",
       "    <tr>\n",
       "      <th>std</th>\n",
       "      <td>1.727058e+02</td>\n",
       "      <td>1.235531e+02</td>\n",
       "      <td>1697.464450</td>\n",
       "    </tr>\n",
       "    <tr>\n",
       "      <th>min</th>\n",
       "      <td>-8.099500e+04</td>\n",
       "      <td>-5.359236e+04</td>\n",
       "      <td>12346.000000</td>\n",
       "    </tr>\n",
       "    <tr>\n",
       "      <th>25%</th>\n",
       "      <td>1.000000e+00</td>\n",
       "      <td>3.250000e+00</td>\n",
       "      <td>13975.000000</td>\n",
       "    </tr>\n",
       "    <tr>\n",
       "      <th>50%</th>\n",
       "      <td>3.000000e+00</td>\n",
       "      <td>4.100000e+00</td>\n",
       "      <td>15255.000000</td>\n",
       "    </tr>\n",
       "    <tr>\n",
       "      <th>75%</th>\n",
       "      <td>1.000000e+01</td>\n",
       "      <td>6.150000e+00</td>\n",
       "      <td>16797.000000</td>\n",
       "    </tr>\n",
       "    <tr>\n",
       "      <th>max</th>\n",
       "      <td>8.099500e+04</td>\n",
       "      <td>3.897200e+04</td>\n",
       "      <td>18287.000000</td>\n",
       "    </tr>\n",
       "  </tbody>\n",
       "</table>\n",
       "</div>"
      ],
      "text/plain": [
       "              Quota        Amount     CustomerID\n",
       "count  1.067371e+06  1.067371e+06  824364.000000\n",
       "mean   9.938898e+00  6.649388e+00   15324.638504\n",
       "std    1.727058e+02  1.235531e+02    1697.464450\n",
       "min   -8.099500e+04 -5.359236e+04   12346.000000\n",
       "25%    1.000000e+00  3.250000e+00   13975.000000\n",
       "50%    3.000000e+00  4.100000e+00   15255.000000\n",
       "75%    1.000000e+01  6.150000e+00   16797.000000\n",
       "max    8.099500e+04  3.897200e+04   18287.000000"
      ]
     },
     "execution_count": 5,
     "metadata": {},
     "output_type": "execute_result"
    }
   ],
   "source": [
    "data.describe()"
   ]
  },
  {
   "cell_type": "code",
   "execution_count": 21,
   "metadata": {
    "ExecuteTime": {
     "end_time": "2022-01-20T21:56:21.712054Z",
     "start_time": "2022-01-20T21:56:21.236947Z"
    }
   },
   "outputs": [
    {
     "data": {
      "text/plain": [
       "<AxesSubplot:>"
      ]
     },
     "execution_count": 21,
     "metadata": {},
     "output_type": "execute_result"
    },
    {
     "data": {
      "image/png": "[encoded data removed]",
      "text/plain": [
       "<Figure size 360x216 with 1 Axes>"
      ]
     },
     "metadata": {
      "needs_background": "light"
     },
     "output_type": "display_data"
    }
   ],
   "source": [
    "data_copy[\"Country\"].value_counts().plot(figsize=(5, 3), kind=\"bar\")"
   ]
  },
  {
   "cell_type": "code",
   "execution_count": 7,
   "metadata": {
    "ExecuteTime": {
     "end_time": "2022-01-20T21:52:09.293005Z",
     "start_time": "2022-01-20T21:52:09.107054Z"
    }
   },
   "outputs": [],
   "source": [
    "data = data[(data[\"Country\"] == \"United Kingdom\") &\n",
    "            (data[\"Amount\"] > 0) & (data[\"Quota\"] > 0)]"
   ]
  },
  {
   "cell_type": "code",
   "execution_count": 8,
   "metadata": {
    "ExecuteTime": {
     "end_time": "2022-01-20T21:52:09.547062Z",
     "start_time": "2022-01-20T21:52:09.295005Z"
    }
   },
   "outputs": [
    {
     "name": "stdout",
     "output_type": "stream",
     "text": [
      "<class 'pandas.core.frame.DataFrame'>\n",
      "Int64Index: 725296 entries, 0 to 1067370\n",
      "Data columns (total 8 columns):\n",
      " #   Column         Non-Null Count   Dtype  \n",
      "---  ------         --------------   -----  \n",
      " 0   Bill           725296 non-null  object \n",
      " 1   MerchandiseID  725296 non-null  object \n",
      " 2   Product        725296 non-null  object \n",
      " 3   Quota          725296 non-null  int64  \n",
      " 4   BillDate       725296 non-null  object \n",
      " 5   Amount         725296 non-null  float64\n",
      " 6   CustomerID     725296 non-null  int32  \n",
      " 7   Country        725296 non-null  object \n",
      "dtypes: float64(1), int32(1), int64(1), object(5)\n",
      "memory usage: 47.0+ MB\n"
     ]
    }
   ],
   "source": [
    "data = data.dropna(subset=['CustomerID'])\n",
    "data[\"CustomerID\"] = data[\"CustomerID\"].astype(int)\n",
    "data.info()"
   ]
  },
  {
   "cell_type": "code",
   "execution_count": 9,
   "metadata": {
    "ExecuteTime": {
     "end_time": "2022-01-20T21:52:09.673090Z",
     "start_time": "2022-01-20T21:52:09.549063Z"
    }
   },
   "outputs": [],
   "source": [
    "pd.options.mode.chained_assignment = None  # default='warn'\n",
    "data[\"BillDate\"] = pd.to_datetime(data.loc[:, \"BillDate\"])"
   ]
  },
  {
   "cell_type": "code",
   "execution_count": 10,
   "metadata": {
    "ExecuteTime": {
     "end_time": "2022-01-20T21:52:09.705098Z",
     "start_time": "2022-01-20T21:52:09.675092Z"
    }
   },
   "outputs": [
    {
     "data": {
      "text/html": [
       "<div>\n",
       "<style scoped>\n",
       "    .dataframe tbody tr th:only-of-type {\n",
       "        vertical-align: middle;\n",
       "    }\n",
       "\n",
       "    .dataframe tbody tr th {\n",
       "        vertical-align: top;\n",
       "    }\n",
       "\n",
       "    .dataframe thead th {\n",
       "        text-align: right;\n",
       "    }\n",
       "</style>\n",
       "<table border=\"1\" class=\"dataframe\">\n",
       "  <thead>\n",
       "    <tr style=\"text-align: right;\">\n",
       "      <th></th>\n",
       "      <th>Bill</th>\n",
       "      <th>MerchandiseID</th>\n",
       "      <th>Product</th>\n",
       "      <th>Quota</th>\n",
       "      <th>BillDate</th>\n",
       "      <th>Amount</th>\n",
       "      <th>CustomerID</th>\n",
       "      <th>Country</th>\n",
       "      <th>Price</th>\n",
       "    </tr>\n",
       "  </thead>\n",
       "  <tbody>\n",
       "    <tr>\n",
       "      <th>0</th>\n",
       "      <td>532657</td>\n",
       "      <td>21314</td>\n",
       "      <td>Small glass heart trinket pot</td>\n",
       "      <td>12</td>\n",
       "      <td>2018-11-14</td>\n",
       "      <td>4.10</td>\n",
       "      <td>14562</td>\n",
       "      <td>United Kingdom</td>\n",
       "      <td>49.20</td>\n",
       "    </tr>\n",
       "    <tr>\n",
       "      <th>1</th>\n",
       "      <td>563214</td>\n",
       "      <td>22383</td>\n",
       "      <td>Lunch bag suki design</td>\n",
       "      <td>2</td>\n",
       "      <td>2019-08-14</td>\n",
       "      <td>3.65</td>\n",
       "      <td>16370</td>\n",
       "      <td>United Kingdom</td>\n",
       "      <td>7.30</td>\n",
       "    </tr>\n",
       "    <tr>\n",
       "      <th>2</th>\n",
       "      <td>507597</td>\n",
       "      <td>22561</td>\n",
       "      <td>Wooden school colouring set</td>\n",
       "      <td>12</td>\n",
       "      <td>2018-05-10</td>\n",
       "      <td>3.65</td>\n",
       "      <td>17700</td>\n",
       "      <td>United Kingdom</td>\n",
       "      <td>43.80</td>\n",
       "    </tr>\n",
       "    <tr>\n",
       "      <th>3</th>\n",
       "      <td>491634</td>\n",
       "      <td>21588</td>\n",
       "      <td>Retro spot giant  tube matches</td>\n",
       "      <td>1</td>\n",
       "      <td>2017-12-11</td>\n",
       "      <td>4.55</td>\n",
       "      <td>17841</td>\n",
       "      <td>United Kingdom</td>\n",
       "      <td>4.55</td>\n",
       "    </tr>\n",
       "    <tr>\n",
       "      <th>4</th>\n",
       "      <td>496007</td>\n",
       "      <td>85232B</td>\n",
       "      <td>Set/3 russian doll stacking tins</td>\n",
       "      <td>3</td>\n",
       "      <td>2018-01-28</td>\n",
       "      <td>6.95</td>\n",
       "      <td>15203</td>\n",
       "      <td>United Kingdom</td>\n",
       "      <td>20.85</td>\n",
       "    </tr>\n",
       "  </tbody>\n",
       "</table>\n",
       "</div>"
      ],
      "text/plain": [
       "     Bill MerchandiseID                           Product  Quota   BillDate  \\\n",
       "0  532657         21314     Small glass heart trinket pot     12 2018-11-14   \n",
       "1  563214         22383            Lunch bag suki design       2 2019-08-14   \n",
       "2  507597         22561       Wooden school colouring set     12 2018-05-10   \n",
       "3  491634         21588    Retro spot giant  tube matches      1 2017-12-11   \n",
       "4  496007        85232B  Set/3 russian doll stacking tins      3 2018-01-28   \n",
       "\n",
       "   Amount  CustomerID         Country  Price  \n",
       "0    4.10       14562  United Kingdom  49.20  \n",
       "1    3.65       16370  United Kingdom   7.30  \n",
       "2    3.65       17700  United Kingdom  43.80  \n",
       "3    4.55       17841  United Kingdom   4.55  \n",
       "4    6.95       15203  United Kingdom  20.85  "
      ]
     },
     "execution_count": 10,
     "metadata": {},
     "output_type": "execute_result"
    }
   ],
   "source": [
    "data[\"Price\"] = data[\"Quota\"]*data[\"Amount\"]\n",
    "data.head()"
   ]
  },
  {
   "cell_type": "markdown",
   "metadata": {},
   "source": [
    "# Aggregation (lambda) function importance:"
   ]
  },
  {
   "cell_type": "markdown",
   "metadata": {},
   "source": [
    "1- The groupby function returns that data as a groupby object that condenses the data of the parameter\n",
    "    given to it in this object<br><br>\n",
    "2- The only way this object can be converted again to our wanted dataframe is by using agg function \n",
    "    which operate on the groupby object via lambda functions (which are a faster way to make a normal function)\n",
    "    returning one value from the condensed data.<br><br>\n",
    "For example:<br> 1- it can be used to get the number of items in every bill in the data set <br>\n",
    "ex = data.groupby(\"Bill\")<br>\n",
    "ex = ex.agg(\"Product\": lambda x: len(x))<br><br>\n",
    "2- it can get what country was the leading buyer<br>\n",
    "ex = data.groupby(\"Country\")<br>\n",
    "ex = ex.agg(\"Price\": lambda x: x.sum())<br><br>\n",
    "3- it can get how many items where sold from each product <br>\n",
    "ex = data.groupby(\"MerchandiseID\")<br>\n",
    "ex = ex.agg(\"Quota\": lambda x: x.sum())<br>"
   ]
  },
  {
   "cell_type": "code",
   "execution_count": 11,
   "metadata": {
    "ExecuteTime": {
     "end_time": "2022-01-20T21:52:21.696761Z",
     "start_time": "2022-01-20T21:52:09.707098Z"
    }
   },
   "outputs": [
    {
     "data": {
      "text/html": [
       "<div>\n",
       "<style scoped>\n",
       "    .dataframe tbody tr th:only-of-type {\n",
       "        vertical-align: middle;\n",
       "    }\n",
       "\n",
       "    .dataframe tbody tr th {\n",
       "        vertical-align: top;\n",
       "    }\n",
       "\n",
       "    .dataframe thead th {\n",
       "        text-align: right;\n",
       "    }\n",
       "</style>\n",
       "<table border=\"1\" class=\"dataframe\">\n",
       "  <thead>\n",
       "    <tr style=\"text-align: right;\">\n",
       "      <th></th>\n",
       "      <th>BillDate</th>\n",
       "      <th>Price</th>\n",
       "      <th>Bill</th>\n",
       "    </tr>\n",
       "    <tr>\n",
       "      <th>CustomerID</th>\n",
       "      <th></th>\n",
       "      <th></th>\n",
       "      <th></th>\n",
       "    </tr>\n",
       "  </thead>\n",
       "  <tbody>\n",
       "    <tr>\n",
       "      <th>12346</th>\n",
       "      <td>326</td>\n",
       "      <td>226126.46</td>\n",
       "      <td>34</td>\n",
       "    </tr>\n",
       "    <tr>\n",
       "      <th>12608</th>\n",
       "      <td>405</td>\n",
       "      <td>1061.79</td>\n",
       "      <td>16</td>\n",
       "    </tr>\n",
       "    <tr>\n",
       "      <th>12745</th>\n",
       "      <td>487</td>\n",
       "      <td>1657.85</td>\n",
       "      <td>22</td>\n",
       "    </tr>\n",
       "    <tr>\n",
       "      <th>12746</th>\n",
       "      <td>541</td>\n",
       "      <td>448.55</td>\n",
       "      <td>17</td>\n",
       "    </tr>\n",
       "    <tr>\n",
       "      <th>12747</th>\n",
       "      <td>3</td>\n",
       "      <td>14792.54</td>\n",
       "      <td>257</td>\n",
       "    </tr>\n",
       "  </tbody>\n",
       "</table>\n",
       "</div>"
      ],
      "text/plain": [
       "            BillDate      Price  Bill\n",
       "CustomerID                           \n",
       "12346            326  226126.46    34\n",
       "12608            405    1061.79    16\n",
       "12745            487    1657.85    22\n",
       "12746            541     448.55    17\n",
       "12747              3   14792.54   257"
      ]
     },
     "execution_count": 11,
     "metadata": {},
     "output_type": "execute_result"
    }
   ],
   "source": [
    "from datetime import timedelta\n",
    "rfm = data.groupby(\"CustomerID\")\n",
    "rfm = rfm.agg({\"BillDate\": lambda x: ((data[\"BillDate\"].max()+timedelta(1))-x.max()).days,\n",
    "               \"Price\": lambda x: (x.sum()),\n",
    "               \"Bill\": lambda x: len(x)})\n",
    "rfm.head()"
   ]
  },
  {
   "cell_type": "code",
   "execution_count": 12,
   "metadata": {
    "ExecuteTime": {
     "end_time": "2022-01-20T21:52:21.728768Z",
     "start_time": "2022-01-20T21:52:21.698761Z"
    }
   },
   "outputs": [
    {
     "data": {
      "text/html": [
       "<div>\n",
       "<style scoped>\n",
       "    .dataframe tbody tr th:only-of-type {\n",
       "        vertical-align: middle;\n",
       "    }\n",
       "\n",
       "    .dataframe tbody tr th {\n",
       "        vertical-align: top;\n",
       "    }\n",
       "\n",
       "    .dataframe thead th {\n",
       "        text-align: right;\n",
       "    }\n",
       "</style>\n",
       "<table border=\"1\" class=\"dataframe\">\n",
       "  <thead>\n",
       "    <tr style=\"text-align: right;\">\n",
       "      <th></th>\n",
       "      <th>BillDate</th>\n",
       "      <th>Price</th>\n",
       "      <th>Bill</th>\n",
       "    </tr>\n",
       "  </thead>\n",
       "  <tbody>\n",
       "    <tr>\n",
       "      <th>count</th>\n",
       "      <td>5353.000000</td>\n",
       "      <td>5353.000000</td>\n",
       "      <td>5353.000000</td>\n",
       "    </tr>\n",
       "    <tr>\n",
       "      <th>mean</th>\n",
       "      <td>203.683729</td>\n",
       "      <td>6007.994305</td>\n",
       "      <td>135.493368</td>\n",
       "    </tr>\n",
       "    <tr>\n",
       "      <th>std</th>\n",
       "      <td>210.120997</td>\n",
       "      <td>24087.635779</td>\n",
       "      <td>325.997871</td>\n",
       "    </tr>\n",
       "    <tr>\n",
       "      <th>min</th>\n",
       "      <td>1.000000</td>\n",
       "      <td>4.950000</td>\n",
       "      <td>1.000000</td>\n",
       "    </tr>\n",
       "    <tr>\n",
       "      <th>25%</th>\n",
       "      <td>26.000000</td>\n",
       "      <td>729.080000</td>\n",
       "      <td>20.000000</td>\n",
       "    </tr>\n",
       "    <tr>\n",
       "      <th>50%</th>\n",
       "      <td>99.000000</td>\n",
       "      <td>1820.050000</td>\n",
       "      <td>53.000000</td>\n",
       "    </tr>\n",
       "    <tr>\n",
       "      <th>75%</th>\n",
       "      <td>382.000000</td>\n",
       "      <td>4893.600000</td>\n",
       "      <td>142.000000</td>\n",
       "    </tr>\n",
       "    <tr>\n",
       "      <th>max</th>\n",
       "      <td>739.000000</td>\n",
       "      <td>985501.650000</td>\n",
       "      <td>12890.000000</td>\n",
       "    </tr>\n",
       "  </tbody>\n",
       "</table>\n",
       "</div>"
      ],
      "text/plain": [
       "          BillDate          Price          Bill\n",
       "count  5353.000000    5353.000000   5353.000000\n",
       "mean    203.683729    6007.994305    135.493368\n",
       "std     210.120997   24087.635779    325.997871\n",
       "min       1.000000       4.950000      1.000000\n",
       "25%      26.000000     729.080000     20.000000\n",
       "50%      99.000000    1820.050000     53.000000\n",
       "75%     382.000000    4893.600000    142.000000\n",
       "max     739.000000  985501.650000  12890.000000"
      ]
     },
     "execution_count": 12,
     "metadata": {},
     "output_type": "execute_result"
    }
   ],
   "source": [
    "rfm.describe()"
   ]
  },
  {
   "cell_type": "code",
   "execution_count": 13,
   "metadata": {
    "ExecuteTime": {
     "end_time": "2022-01-20T21:52:21.744493Z",
     "start_time": "2022-01-20T21:52:21.729769Z"
    }
   },
   "outputs": [],
   "source": [
    "rfm.columns = [\"Recency\", \"Monetary\", \"Frequency\"]"
   ]
  },
  {
   "cell_type": "code",
   "execution_count": 14,
   "metadata": {
    "ExecuteTime": {
     "end_time": "2022-01-20T21:52:21.774667Z",
     "start_time": "2022-01-20T21:52:21.746496Z"
    }
   },
   "outputs": [
    {
     "data": {
      "text/html": [
       "<div>\n",
       "<style scoped>\n",
       "    .dataframe tbody tr th:only-of-type {\n",
       "        vertical-align: middle;\n",
       "    }\n",
       "\n",
       "    .dataframe tbody tr th {\n",
       "        vertical-align: top;\n",
       "    }\n",
       "\n",
       "    .dataframe thead th {\n",
       "        text-align: right;\n",
       "    }\n",
       "</style>\n",
       "<table border=\"1\" class=\"dataframe\">\n",
       "  <thead>\n",
       "    <tr style=\"text-align: right;\">\n",
       "      <th></th>\n",
       "      <th>Recency</th>\n",
       "      <th>Monetary</th>\n",
       "      <th>Frequency</th>\n",
       "      <th>r_quartile</th>\n",
       "      <th>f_quartile</th>\n",
       "      <th>m_quartile</th>\n",
       "    </tr>\n",
       "    <tr>\n",
       "      <th>CustomerID</th>\n",
       "      <th></th>\n",
       "      <th></th>\n",
       "      <th></th>\n",
       "      <th></th>\n",
       "      <th></th>\n",
       "      <th></th>\n",
       "    </tr>\n",
       "  </thead>\n",
       "  <tbody>\n",
       "    <tr>\n",
       "      <th>12346</th>\n",
       "      <td>326</td>\n",
       "      <td>226126.46</td>\n",
       "      <td>34</td>\n",
       "      <td>3</td>\n",
       "      <td>3</td>\n",
       "      <td>1</td>\n",
       "    </tr>\n",
       "    <tr>\n",
       "      <th>12608</th>\n",
       "      <td>405</td>\n",
       "      <td>1061.79</td>\n",
       "      <td>16</td>\n",
       "      <td>4</td>\n",
       "      <td>4</td>\n",
       "      <td>3</td>\n",
       "    </tr>\n",
       "    <tr>\n",
       "      <th>12745</th>\n",
       "      <td>487</td>\n",
       "      <td>1657.85</td>\n",
       "      <td>22</td>\n",
       "      <td>4</td>\n",
       "      <td>3</td>\n",
       "      <td>3</td>\n",
       "    </tr>\n",
       "    <tr>\n",
       "      <th>12746</th>\n",
       "      <td>541</td>\n",
       "      <td>448.55</td>\n",
       "      <td>17</td>\n",
       "      <td>4</td>\n",
       "      <td>4</td>\n",
       "      <td>4</td>\n",
       "    </tr>\n",
       "    <tr>\n",
       "      <th>12747</th>\n",
       "      <td>3</td>\n",
       "      <td>14792.54</td>\n",
       "      <td>257</td>\n",
       "      <td>1</td>\n",
       "      <td>1</td>\n",
       "      <td>1</td>\n",
       "    </tr>\n",
       "  </tbody>\n",
       "</table>\n",
       "</div>"
      ],
      "text/plain": [
       "            Recency   Monetary  Frequency r_quartile f_quartile m_quartile\n",
       "CustomerID                                                                \n",
       "12346           326  226126.46         34          3          3          1\n",
       "12608           405    1061.79         16          4          4          3\n",
       "12745           487    1657.85         22          4          3          3\n",
       "12746           541     448.55         17          4          4          4\n",
       "12747             3   14792.54        257          1          1          1"
      ]
     },
     "execution_count": 14,
     "metadata": {},
     "output_type": "execute_result"
    }
   ],
   "source": [
    "rfm[\"r_quartile\"] = pd.qcut(rfm[\"Recency\"], 4, [1, 2, 3, 4])\n",
    "rfm[\"f_quartile\"] = pd.qcut(rfm[\"Frequency\"], 4, [4, 3, 2, 1])\n",
    "rfm[\"m_quartile\"] = pd.qcut(rfm[\"Monetary\"], 4, [4, 3, 2, 1])\n",
    "rfm.head()"
   ]
  },
  {
   "cell_type": "code",
   "execution_count": 15,
   "metadata": {
    "ExecuteTime": {
     "end_time": "2022-01-20T21:52:21.790670Z",
     "start_time": "2022-01-20T21:52:21.775666Z"
    }
   },
   "outputs": [
    {
     "name": "stdout",
     "output_type": "stream",
     "text": [
      "<class 'pandas.core.frame.DataFrame'>\n",
      "Int64Index: 5353 entries, 12346 to 18287\n",
      "Data columns (total 6 columns):\n",
      " #   Column      Non-Null Count  Dtype  \n",
      "---  ------      --------------  -----  \n",
      " 0   Recency     5353 non-null   int64  \n",
      " 1   Monetary    5353 non-null   float64\n",
      " 2   Frequency   5353 non-null   int64  \n",
      " 3   r_quartile  5353 non-null   int32  \n",
      " 4   f_quartile  5353 non-null   int32  \n",
      " 5   m_quartile  5353 non-null   int32  \n",
      "dtypes: float64(1), int32(3), int64(2)\n",
      "memory usage: 230.0 KB\n"
     ]
    }
   ],
   "source": [
    "rfm[\"r_quartile\"], rfm[\"f_quartile\"], rfm[\"m_quartile\"] = rfm[\"r_quartile\"].astype(\n",
    "    int), rfm[\"f_quartile\"].astype(int), rfm[\"m_quartile\"].astype(int)\n",
    "rfm.info()"
   ]
  },
  {
   "cell_type": "code",
   "execution_count": 16,
   "metadata": {
    "ExecuteTime": {
     "end_time": "2022-01-20T21:52:21.805674Z",
     "start_time": "2022-01-20T21:52:21.791671Z"
    }
   },
   "outputs": [
    {
     "data": {
      "text/html": [
       "<div>\n",
       "<style scoped>\n",
       "    .dataframe tbody tr th:only-of-type {\n",
       "        vertical-align: middle;\n",
       "    }\n",
       "\n",
       "    .dataframe tbody tr th {\n",
       "        vertical-align: top;\n",
       "    }\n",
       "\n",
       "    .dataframe thead th {\n",
       "        text-align: right;\n",
       "    }\n",
       "</style>\n",
       "<table border=\"1\" class=\"dataframe\">\n",
       "  <thead>\n",
       "    <tr style=\"text-align: right;\">\n",
       "      <th></th>\n",
       "      <th>Recency</th>\n",
       "      <th>Monetary</th>\n",
       "      <th>Frequency</th>\n",
       "      <th>r_quartile</th>\n",
       "      <th>f_quartile</th>\n",
       "      <th>m_quartile</th>\n",
       "      <th>Customer_Seqmentation</th>\n",
       "    </tr>\n",
       "    <tr>\n",
       "      <th>CustomerID</th>\n",
       "      <th></th>\n",
       "      <th></th>\n",
       "      <th></th>\n",
       "      <th></th>\n",
       "      <th></th>\n",
       "      <th></th>\n",
       "      <th></th>\n",
       "    </tr>\n",
       "  </thead>\n",
       "  <tbody>\n",
       "    <tr>\n",
       "      <th>14060</th>\n",
       "      <td>5</td>\n",
       "      <td>25757.08</td>\n",
       "      <td>270</td>\n",
       "      <td>1</td>\n",
       "      <td>1</td>\n",
       "      <td>1</td>\n",
       "      <td>111</td>\n",
       "    </tr>\n",
       "    <tr>\n",
       "      <th>15861</th>\n",
       "      <td>13</td>\n",
       "      <td>12121.79</td>\n",
       "      <td>798</td>\n",
       "      <td>1</td>\n",
       "      <td>1</td>\n",
       "      <td>1</td>\n",
       "      <td>111</td>\n",
       "    </tr>\n",
       "    <tr>\n",
       "      <th>14739</th>\n",
       "      <td>5</td>\n",
       "      <td>32631.50</td>\n",
       "      <td>256</td>\n",
       "      <td>1</td>\n",
       "      <td>1</td>\n",
       "      <td>1</td>\n",
       "      <td>111</td>\n",
       "    </tr>\n",
       "    <tr>\n",
       "      <th>14735</th>\n",
       "      <td>4</td>\n",
       "      <td>21266.16</td>\n",
       "      <td>366</td>\n",
       "      <td>1</td>\n",
       "      <td>1</td>\n",
       "      <td>1</td>\n",
       "      <td>111</td>\n",
       "    </tr>\n",
       "    <tr>\n",
       "      <th>17758</th>\n",
       "      <td>20</td>\n",
       "      <td>11484.53</td>\n",
       "      <td>536</td>\n",
       "      <td>1</td>\n",
       "      <td>1</td>\n",
       "      <td>1</td>\n",
       "      <td>111</td>\n",
       "    </tr>\n",
       "  </tbody>\n",
       "</table>\n",
       "</div>"
      ],
      "text/plain": [
       "            Recency  Monetary  Frequency  r_quartile  f_quartile  m_quartile  \\\n",
       "CustomerID                                                                     \n",
       "14060             5  25757.08        270           1           1           1   \n",
       "15861            13  12121.79        798           1           1           1   \n",
       "14739             5  32631.50        256           1           1           1   \n",
       "14735             4  21266.16        366           1           1           1   \n",
       "17758            20  11484.53        536           1           1           1   \n",
       "\n",
       "            Customer_Seqmentation  \n",
       "CustomerID                         \n",
       "14060                         111  \n",
       "15861                         111  \n",
       "14739                         111  \n",
       "14735                         111  \n",
       "17758                         111  "
      ]
     },
     "execution_count": 16,
     "metadata": {},
     "output_type": "execute_result"
    }
   ],
   "source": [
    "rfm[\"Customer_Seqmentation\"] = rfm[\"r_quartile\"] * \\\n",
    "    100 + rfm[\"f_quartile\"]*10 + rfm[\"m_quartile\"]\n",
    "rfm = rfm.sort_values(\"Customer_Seqmentation\")\n",
    "rfm.head(5)"
   ]
  },
  {
   "cell_type": "code",
   "execution_count": 17,
   "metadata": {
    "ExecuteTime": {
     "end_time": "2022-01-20T21:52:21.820677Z",
     "start_time": "2022-01-20T21:52:21.807675Z"
    }
   },
   "outputs": [
    {
     "data": {
      "text/html": [
       "<div>\n",
       "<style scoped>\n",
       "    .dataframe tbody tr th:only-of-type {\n",
       "        vertical-align: middle;\n",
       "    }\n",
       "\n",
       "    .dataframe tbody tr th {\n",
       "        vertical-align: top;\n",
       "    }\n",
       "\n",
       "    .dataframe thead th {\n",
       "        text-align: right;\n",
       "    }\n",
       "</style>\n",
       "<table border=\"1\" class=\"dataframe\">\n",
       "  <thead>\n",
       "    <tr style=\"text-align: right;\">\n",
       "      <th></th>\n",
       "      <th>Recency</th>\n",
       "      <th>Monetary</th>\n",
       "      <th>Frequency</th>\n",
       "      <th>r_quartile</th>\n",
       "      <th>f_quartile</th>\n",
       "      <th>m_quartile</th>\n",
       "      <th>Customer_Seqmentation</th>\n",
       "    </tr>\n",
       "    <tr>\n",
       "      <th>CustomerID</th>\n",
       "      <th></th>\n",
       "      <th></th>\n",
       "      <th></th>\n",
       "      <th></th>\n",
       "      <th></th>\n",
       "      <th></th>\n",
       "      <th></th>\n",
       "    </tr>\n",
       "  </thead>\n",
       "  <tbody>\n",
       "    <tr>\n",
       "      <th>14751</th>\n",
       "      <td>685</td>\n",
       "      <td>256.45</td>\n",
       "      <td>7</td>\n",
       "      <td>4</td>\n",
       "      <td>4</td>\n",
       "      <td>4</td>\n",
       "      <td>444</td>\n",
       "    </tr>\n",
       "    <tr>\n",
       "      <th>14728</th>\n",
       "      <td>414</td>\n",
       "      <td>326.58</td>\n",
       "      <td>14</td>\n",
       "      <td>4</td>\n",
       "      <td>4</td>\n",
       "      <td>4</td>\n",
       "      <td>444</td>\n",
       "    </tr>\n",
       "    <tr>\n",
       "      <th>15564</th>\n",
       "      <td>464</td>\n",
       "      <td>154.74</td>\n",
       "      <td>4</td>\n",
       "      <td>4</td>\n",
       "      <td>4</td>\n",
       "      <td>4</td>\n",
       "      <td>444</td>\n",
       "    </tr>\n",
       "  </tbody>\n",
       "</table>\n",
       "</div>"
      ],
      "text/plain": [
       "            Recency  Monetary  Frequency  r_quartile  f_quartile  m_quartile  \\\n",
       "CustomerID                                                                     \n",
       "14751           685    256.45          7           4           4           4   \n",
       "14728           414    326.58         14           4           4           4   \n",
       "15564           464    154.74          4           4           4           4   \n",
       "\n",
       "            Customer_Seqmentation  \n",
       "CustomerID                         \n",
       "14751                         444  \n",
       "14728                         444  \n",
       "15564                         444  "
      ]
     },
     "execution_count": 17,
     "metadata": {},
     "output_type": "execute_result"
    }
   ],
   "source": [
    "rfm.tail(3)"
   ]
  }
 ],
 "metadata": {
  "kernelspec": {
   "display_name": "Python 3",
   "language": "python",
   "name": "python3"
  },
  "language_info": {
   "codemirror_mode": {
    "name": "ipython",
    "version": 3
   },
   "file_extension": ".py",
   "mimetype": "text/x-python",
   "name": "python",
   "nbconvert_exporter": "python",
   "pygments_lexer": "ipython3",
   "version": "3.8.5"
  },
  "varInspector": {
   "cols": {
    "lenName": 16,
    "lenType": 16,
    "lenVar": 40
   },
   "kernels_config": {
    "python": {
     "delete_cmd_postfix": "",
     "delete_cmd_prefix": "del ",
     "library": "var_list.py",
     "varRefreshCmd": "print(var_dic_list())"
    },
    "r": {
     "delete_cmd_postfix": ") ",
     "delete_cmd_prefix": "rm(",
     "library": "var_list.r",
     "varRefreshCmd": "cat(var_dic_list()) "
    }
   },
   "types_to_exclude": [
    "module",
    "function",
    "builtin_function_or_method",
    "instance",
    "_Feature"
   ],
   "window_display": false
  }
 },
 "nbformat": 4,
 "nbformat_minor": 4
}
